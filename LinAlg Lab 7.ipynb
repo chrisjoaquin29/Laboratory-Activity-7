{
 "cells": [
  {
   "cell_type": "markdown",
   "metadata": {},
   "source": [
    "*Joaquin, Marc Christopher C.* <br>\n",
    "*Engr. Dylan Lopez* <br>\n",
    "*58010* \n",
    "# Linear Algebra for CpE\n",
    "## Laboratory 7 : Matrix Operations"
   ]
  },
  {
   "cell_type": "markdown",
   "metadata": {},
   "source": [
    "Now that you have a fundamental knowledge about representing and operating with vectors as well as the fundamentals of matrices, we'll try to the same operations with matrices and even more."
   ]
  },
  {
   "cell_type": "markdown",
   "metadata": {},
   "source": [
    "### Objectives\n",
    "At the end of this activity you will be able to:\n",
    "1. Be familiar with the fundamental matrix operations.\n",
    "2. Apply the operations to solve intemrediate equations.\n",
    "3. Apply matrix algebra in engineering solutions."
   ]
  },
  {
   "cell_type": "markdown",
   "metadata": {},
   "source": [
    "## Discussion"
   ]
  },
  {
   "cell_type": "code",
   "execution_count": 1,
   "metadata": {},
   "outputs": [],
   "source": [
    "import numpy as np\n",
    "import matplotlib.pyplot as plt\n",
    "%matplotlib inline"
   ]
  },
  {
   "cell_type": "markdown",
   "metadata": {},
   "source": [
    "## Transposition"
   ]
  },
  {
   "cell_type": "markdown",
   "metadata": {},
   "source": [
    "One of the fundamental operations in matrix algebra is Transposition. The transpose of a matrix is done by flipping the values of its elements over its diagonals. With this, the rows and columns from the original matrix will be switched. So for a matrix $A$ its transpose is denoted as $A^T$. So for example:"
   ]
  },
  {
   "cell_type": "markdown",
   "metadata": {},
   "source": [
    "$$A = \\begin{bmatrix} 1 & 2 & 5\\\\5 & -1 &0 \\\\ 0 & -3 & 3\\end{bmatrix} $$"
   ]
  },
  {
   "cell_type": "markdown",
   "metadata": {},
   "source": [
    "$$ A^T = \\begin{bmatrix} 1 & 5 & 0\\\\2 & -1 &-3 \\\\ 5 & 0 & 3\\end{bmatrix}$$"
   ]
  },
  {
   "cell_type": "markdown",
   "metadata": {},
   "source": [
    "This can now be achieved programmatically by using `np.transpose()` or using the `T` method."
   ]
  },
  {
   "cell_type": "code",
   "execution_count": 3,
   "metadata": {},
   "outputs": [
    {
     "data": {
      "text/plain": [
       "array([[ 1,  2,  5],\n",
       "       [ 5, -1,  0],\n",
       "       [ 0, -3,  3]])"
      ]
     },
     "execution_count": 3,
     "metadata": {},
     "output_type": "execute_result"
    }
   ],
   "source": [
    "A = np.array([\n",
    "    [1 ,2, 5],\n",
    "    [5, -1, 0],\n",
    "    [0, -3, 3]\n",
    "])\n",
    "A"
   ]
  },
  {
   "cell_type": "code",
   "execution_count": 6,
   "metadata": {},
   "outputs": [],
   "source": [
    "AT1 = np.transpose(A)"
   ]
  },
  {
   "cell_type": "code",
   "execution_count": 7,
   "metadata": {},
   "outputs": [],
   "source": [
    "AT2 = A.T"
   ]
  },
  {
   "cell_type": "code",
   "execution_count": 11,
   "metadata": {},
   "outputs": [
    {
     "data": {
      "text/plain": [
       "True"
      ]
     },
     "execution_count": 11,
     "metadata": {},
     "output_type": "execute_result"
    }
   ],
   "source": [
    "np.array_equiv(AT1, AT2)"
   ]
  },
  {
   "cell_type": "code",
   "execution_count": 12,
   "metadata": {},
   "outputs": [
    {
     "data": {
      "text/plain": [
       "(2, 4)"
      ]
     },
     "execution_count": 12,
     "metadata": {},
     "output_type": "execute_result"
    }
   ],
   "source": [
    "B = np.array([\n",
    "    [1,2,3,4],\n",
    "    [1,0,2,1],\n",
    "])\n",
    "B.shape"
   ]
  },
  {
   "cell_type": "code",
   "execution_count": 13,
   "metadata": {},
   "outputs": [
    {
     "data": {
      "text/plain": [
       "(4, 2)"
      ]
     },
     "execution_count": 13,
     "metadata": {},
     "output_type": "execute_result"
    }
   ],
   "source": [
    "np.transpose(B).shape"
   ]
  },
  {
   "cell_type": "code",
   "execution_count": 14,
   "metadata": {},
   "outputs": [
    {
     "data": {
      "text/plain": [
       "(4, 2)"
      ]
     },
     "execution_count": 14,
     "metadata": {},
     "output_type": "execute_result"
    }
   ],
   "source": [
    "B.T.shape"
   ]
  },
  {
   "cell_type": "markdown",
   "metadata": {},
   "source": [
    "#### Try to create your own matrix (you can try non-squares) to test transposition."
   ]
  },
  {
   "cell_type": "code",
   "execution_count": null,
   "metadata": {},
   "outputs": [],
   "source": [
    "## Try out your code here."
   ]
  },
  {
   "cell_type": "markdown",
   "metadata": {},
   "source": [
    "## Dot Product / Inner Product"
   ]
  },
  {
   "cell_type": "markdown",
   "metadata": {},
   "source": [
    "If you recall the dot product from laboratory activity before, we will try to implement the same operation with matrices. In matrix dot product we are going to get the sum of products of the vectors by row-column pairs. So if we have two matrices $X$ and $Y$:\n",
    "\n",
    "$$X = \\begin{bmatrix}x_{(0,0)}&x_{(0,1)}\\\\ x_{(1,0)}&x_{(1,1)}\\end{bmatrix}, Y = \\begin{bmatrix}y_{(0,0)}&y_{(0,1)}\\\\ y_{(1,0)}&y_{(1,1)}\\end{bmatrix}$$\n",
    "\n",
    "The dot product will then be computed as:\n",
    "$$X \\cdot Y= \\begin{bmatrix} x_{(0,0)}*y_{(0,0)} + x_{(0,1)}*y_{(1,0)} & x_{(0,0)}*y_{(0,1)} + x_{(0,1)}*y_{(1,1)} \\\\  x_{(1,0)}*y_{(0,0)} + x_{(1,1)}*y_{(1,0)} & x_{(1,0)}*y_{(0,1)} + x_{(1,1)}*y_{(1,1)}\n",
    "\\end{bmatrix}$$\n",
    "\n",
    "So if we assign values to $X$ and $Y$:\n",
    "$$X = \\begin{bmatrix}1&2\\\\ 0&1\\end{bmatrix}, Y = \\begin{bmatrix}-1&0\\\\ 2&2\\end{bmatrix}$$"
   ]
  },
  {
   "cell_type": "markdown",
   "metadata": {},
   "source": [
    "$$X \\cdot Y= \\begin{bmatrix} 1*-1 + 2*2 & 1*0 + 2*2 \\\\  0*-1 + 1*2 & 0*0 + 1*2 \\end{bmatrix} = \\begin{bmatrix} 3 & 4 \\\\2 & 2 \\end{bmatrix}$$\n",
    "This could be achieved programmatically using `np.dot()`, `np.matmul()` or the `@` operator."
   ]
  },
  {
   "cell_type": "code",
   "execution_count": 15,
   "metadata": {},
   "outputs": [],
   "source": [
    "X = np.array([\n",
    "    [1,2],\n",
    "    [0,1]\n",
    "])\n",
    "Y = np.array([\n",
    "    [-1,0],\n",
    "    [2,2]\n",
    "])"
   ]
  },
  {
   "cell_type": "code",
   "execution_count": 16,
   "metadata": {},
   "outputs": [
    {
     "data": {
      "text/plain": [
       "array([[3, 4],\n",
       "       [2, 2]])"
      ]
     },
     "execution_count": 16,
     "metadata": {},
     "output_type": "execute_result"
    }
   ],
   "source": [
    "np.dot(X,Y)"
   ]
  },
  {
   "cell_type": "code",
   "execution_count": 17,
   "metadata": {},
   "outputs": [
    {
     "data": {
      "text/plain": [
       "array([[3, 4],\n",
       "       [2, 2]])"
      ]
     },
     "execution_count": 17,
     "metadata": {},
     "output_type": "execute_result"
    }
   ],
   "source": [
    "X.dot(Y)"
   ]
  },
  {
   "cell_type": "code",
   "execution_count": 18,
   "metadata": {},
   "outputs": [
    {
     "data": {
      "text/plain": [
       "array([[3, 4],\n",
       "       [2, 2]])"
      ]
     },
     "execution_count": 18,
     "metadata": {},
     "output_type": "execute_result"
    }
   ],
   "source": [
    "X @ Y"
   ]
  },
  {
   "cell_type": "code",
   "execution_count": 19,
   "metadata": {},
   "outputs": [
    {
     "data": {
      "text/plain": [
       "array([[3, 4],\n",
       "       [2, 2]])"
      ]
     },
     "execution_count": 19,
     "metadata": {},
     "output_type": "execute_result"
    }
   ],
   "source": [
    "np.matmul(X,Y)"
   ]
  },
  {
   "cell_type": "markdown",
   "metadata": {},
   "source": [
    "In matrix dot products there are additional rules compared with vector dot products. Since vector dot products were just in one dimension there are less restrictions. Since now we are dealing with Rank 2 vectors we need to consider some rules:\n",
    "\n",
    "### Rule 1: The inner dimensions of the two matrices in question must be the same. \n",
    "\n",
    "So given a matrix $A$ with a shape of $(a,b)$ where $a$ and $b$ are any integers. If we want to do a dot product between $A$ and another matrix $B$, then matrix $B$ should have a shape of $(b,c)$ where $b$ and $c$ are any integers. So for given the following matrices:\n",
    "\n",
    "$$A = \\begin{bmatrix}2&4\\\\5&-2\\\\0&1\\end{bmatrix}, B = \\begin{bmatrix}1&1\\\\3&3\\\\-1&-2\\end{bmatrix}, C = \\begin{bmatrix}0&1&1\\\\1&1&2\\end{bmatrix}$$\n",
    "\n",
    "So in this case $A$ has a shape of $(3,2)$, $B$ has a shape of $(3,2)$ and $C$ has a shape of $(2,3)$. So the only matrix pairs that is eligible to perform dot product is matrices $A \\cdot C$, or $B \\cdot C$.  "
   ]
  },
  {
   "cell_type": "code",
   "execution_count": 20,
   "metadata": {},
   "outputs": [
    {
     "name": "stdout",
     "output_type": "stream",
     "text": [
      "(3, 2)\n",
      "(3, 2)\n",
      "(2, 3)\n"
     ]
    }
   ],
   "source": [
    "A = np.array([\n",
    "    [2, 4],\n",
    "    [5, -2],\n",
    "    [0, 1]\n",
    "])\n",
    "B = np.array([\n",
    "    [1,1],\n",
    "    [3,3],\n",
    "    [-1,-2]\n",
    "])\n",
    "C = np.array([\n",
    "    [0,1,1],\n",
    "    [1,1,2]\n",
    "])\n",
    "print(A.shape)\n",
    "print(B.shape)\n",
    "print(C.shape)"
   ]
  },
  {
   "cell_type": "code",
   "execution_count": 21,
   "metadata": {},
   "outputs": [
    {
     "data": {
      "text/plain": [
       "array([[ 4,  6, 10],\n",
       "       [-2,  3,  1],\n",
       "       [ 1,  1,  2]])"
      ]
     },
     "execution_count": 21,
     "metadata": {},
     "output_type": "execute_result"
    }
   ],
   "source": [
    "A @ C"
   ]
  },
  {
   "cell_type": "code",
   "execution_count": 22,
   "metadata": {},
   "outputs": [
    {
     "data": {
      "text/plain": [
       "array([[ 1,  2,  3],\n",
       "       [ 3,  6,  9],\n",
       "       [-2, -3, -5]])"
      ]
     },
     "execution_count": 22,
     "metadata": {},
     "output_type": "execute_result"
    }
   ],
   "source": [
    "B @ C"
   ]
  },
  {
   "cell_type": "markdown",
   "metadata": {},
   "source": [
    "If you would notice the shape of the dot product changed and its shape is not the same as any of the matrices we used. The shape of a dot product is actually derived from the shapes of the matrices used. So recall matrix $A$ with a shape of $(a,b)$ and matrix $B$ with a shape of $(b,c)$, $A \\cdot B$ should have a shape $(a,c)$."
   ]
  },
  {
   "cell_type": "code",
   "execution_count": 24,
   "metadata": {},
   "outputs": [
    {
     "data": {
      "text/plain": [
       "array([[  6,  18, -10],\n",
       "       [  3,   9,  -1],\n",
       "       [  1,   3,  -2]])"
      ]
     },
     "execution_count": 24,
     "metadata": {},
     "output_type": "execute_result"
    }
   ],
   "source": [
    "A @ B.T"
   ]
  },
  {
   "cell_type": "code",
   "execution_count": 27,
   "metadata": {},
   "outputs": [
    {
     "name": "stdout",
     "output_type": "stream",
     "text": [
      "(1, 4)\n",
      "(1, 4)\n"
     ]
    }
   ],
   "source": [
    "X = np.array([\n",
    "    [1,2,3,0]\n",
    "])\n",
    "Y = np.array([\n",
    "    [1,0,4,-1]\n",
    "])\n",
    "print(X.shape)\n",
    "print(Y.shape)"
   ]
  },
  {
   "cell_type": "code",
   "execution_count": 30,
   "metadata": {},
   "outputs": [
    {
     "data": {
      "text/plain": [
       "array([[ 1,  2,  3,  0],\n",
       "       [ 0,  0,  0,  0],\n",
       "       [ 4,  8, 12,  0],\n",
       "       [-1, -2, -3,  0]])"
      ]
     },
     "execution_count": 30,
     "metadata": {},
     "output_type": "execute_result"
    }
   ],
   "source": [
    "Y.T @ X"
   ]
  },
  {
   "cell_type": "markdown",
   "metadata": {},
   "source": [
    "And youcan see that when you try to multiply A and B, it returns `ValueError` pertaining to matrix shape mismatch."
   ]
  },
  {
   "cell_type": "markdown",
   "metadata": {},
   "source": [
    "### Rule 2: Dot Product has special properties\n",
    "\n",
    "Dot products are prevalent in matrix algebra, this implies that it has several unique properties and it should be considered when formulation solutions:\n",
    " 1. $A \\cdot B \\neq B \\cdot A$\n",
    " 2. $A \\cdot (B \\cdot C) = (A \\cdot B) \\cdot C$\n",
    " 3. $A\\cdot(B+C) = A\\cdot B + A\\cdot C$\n",
    " 4. $(B+C)\\cdot A = B\\cdot A + C\\cdot A$\n",
    " 5. $A\\cdot I = A$\n",
    " 6. $A\\cdot \\emptyset = \\emptyset$ "
   ]
  },
  {
   "cell_type": "markdown",
   "metadata": {},
   "source": [
    "I'll be doing just one of the properties and I'll leave the rest to test your skills!"
   ]
  },
  {
   "cell_type": "code",
   "execution_count": 32,
   "metadata": {},
   "outputs": [],
   "source": [
    "A = np.array([\n",
    "    [3,2,1],\n",
    "    [4,5,1],\n",
    "    [1,1,0]\n",
    "])\n",
    "B = np.array([\n",
    "    [4,1,6],\n",
    "    [4,1,9],\n",
    "    [1,4,8]\n",
    "])\n",
    "C = np.array([\n",
    "    [1,1,0],\n",
    "    [0,1,1],\n",
    "    [1,0,1]\n",
    "])"
   ]
  },
  {
   "cell_type": "code",
   "execution_count": 33,
   "metadata": {},
   "outputs": [
    {
     "data": {
      "text/plain": [
       "array([[0., 0., 0.],\n",
       "       [0., 0., 0.],\n",
       "       [0., 0., 0.]])"
      ]
     },
     "execution_count": 33,
     "metadata": {},
     "output_type": "execute_result"
    }
   ],
   "source": [
    "A.dot(np.zeros(A.shape))"
   ]
  },
  {
   "cell_type": "code",
   "execution_count": 34,
   "metadata": {},
   "outputs": [
    {
     "data": {
      "text/plain": [
       "array([[0., 0., 0.],\n",
       "       [0., 0., 0.],\n",
       "       [0., 0., 0.]])"
      ]
     },
     "execution_count": 34,
     "metadata": {},
     "output_type": "execute_result"
    }
   ],
   "source": [
    "z_mat = np.zeros(A.shape)\n",
    "z_mat"
   ]
  },
  {
   "cell_type": "code",
   "execution_count": 35,
   "metadata": {},
   "outputs": [
    {
     "data": {
      "text/plain": [
       "array([[0., 0., 0.],\n",
       "       [0., 0., 0.],\n",
       "       [0., 0., 0.]])"
      ]
     },
     "execution_count": 35,
     "metadata": {},
     "output_type": "execute_result"
    }
   ],
   "source": [
    "a_dot_z = A.dot(np.zeros(A.shape))\n",
    "a_dot_z"
   ]
  },
  {
   "cell_type": "code",
   "execution_count": 57,
   "metadata": {},
   "outputs": [
    {
     "data": {
      "text/plain": [
       "True"
      ]
     },
     "execution_count": 57,
     "metadata": {},
     "output_type": "execute_result"
    }
   ],
   "source": [
    "np.array_equal(a_dot_z,z_mat)"
   ]
  },
  {
   "cell_type": "code",
   "execution_count": 66,
   "metadata": {},
   "outputs": [
    {
     "name": "stdout",
     "output_type": "stream",
     "text": [
      "[[0. 0. 0.]\n",
      " [0. 0. 0.]\n",
      " [0. 0. 0.]]\n"
     ]
    },
    {
     "data": {
      "text/plain": [
       "True"
      ]
     },
     "execution_count": 66,
     "metadata": {},
     "output_type": "execute_result"
    }
   ],
   "source": [
    "null_mat = np.empty(A.shape, dtype=float)\n",
    "null = np.array(null_mat,dtype=float)\n",
    "print(null)\n",
    "np.allclose(a_dot_z,null)"
   ]
  },
  {
   "cell_type": "markdown",
   "metadata": {},
   "source": [
    "## Determinant"
   ]
  },
  {
   "cell_type": "markdown",
   "metadata": {},
   "source": [
    "A determinant is a scalar value derived from a square matrix. The determinant is a fundamental and important value used in matrix algebra. Although it will not be evident in this laboratory on how it can be used practically, but it will be reatly used in future lessons.\n",
    "\n",
    "The determinant of some matrix $A$ is denoted as $det(A)$ or $|A|$. So let's say $A$ is represented as:\n",
    "$$A = \\begin{bmatrix}a_{(0,0)}&a_{(0,1)}\\\\a_{(1,0)}&a_{(1,1)}\\end{bmatrix}$$\n",
    "We can compute for the determinant as:\n",
    "$$|A| = a_{(0,0)}*a_{(1,1)} - a_{(1,0)}*a_{(0,1)}$$\n",
    "So if we have $A$ as:\n",
    "$$A = \\begin{bmatrix}1&4\\\\0&3\\end{bmatrix}, |A| = 3$$\n",
    "\n",
    "But you might wonder how about square matrices beyond the shape $(2,2)$? We can approach this problem by using several methods such as co-factor expansion and the minors method. This can be taught in the lecture of the laboratory but we can achieve the strenuous computation of high-dimensional matrices programmatically using Python. We can achieve this by using `np.linalg.det()`."
   ]
  },
  {
   "cell_type": "code",
   "execution_count": 67,
   "metadata": {},
   "outputs": [
    {
     "data": {
      "text/plain": [
       "3.0000000000000004"
      ]
     },
     "execution_count": 67,
     "metadata": {},
     "output_type": "execute_result"
    }
   ],
   "source": [
    "A = np.array([\n",
    "    [1,4],\n",
    "    [0,3]\n",
    "])\n",
    "np.linalg.det(A)"
   ]
  },
  {
   "cell_type": "code",
   "execution_count": 68,
   "metadata": {},
   "outputs": [
    {
     "data": {
      "text/plain": [
       "-235.0"
      ]
     },
     "execution_count": 68,
     "metadata": {},
     "output_type": "execute_result"
    }
   ],
   "source": [
    "## Now other mathematics classes would require you to solve this by hand, \n",
    "## and that is great for practicing your memorization and coordination skills \n",
    "## but in this class we aim for simplicity and speed so we'll use programming\n",
    "## but it's completely fine if you want to try to solve this one by hand.\n",
    "B = np.array([\n",
    "    [1,3,5,6],\n",
    "    [0,3,1,3],\n",
    "    [3,1,8,2],\n",
    "    [5,2,6,8]\n",
    "])\n",
    "np.linalg.det(B)"
   ]
  },
  {
   "cell_type": "markdown",
   "metadata": {},
   "source": [
    "## Inverse"
   ]
  },
  {
   "cell_type": "markdown",
   "metadata": {},
   "source": [
    "The inverse of a matrix is another fundamental operation in matrix algebra. Determining the inverse of a matrix let us determine if its solvability and its characteristic as a system of linear equation — we'll expand on this in the nect module. Another use of the inverse matrix is solving the problem of divisibility between matrices. Although element-wise division exists but dividing the entire concept of matrices does not exists. Inverse matrices provides a related operation that could have the same concept of \"dividing\" matrices.\n",
    "\n",
    "Now to determine the inverse of a matrix we need to perform several steps. So let's say we have a matrix $M$:\n",
    "$$M = \\begin{bmatrix}1&7\\\\-3&5\\end{bmatrix}$$\n",
    "First, we need to get the determinant of $M$.\n",
    "$$|M| = (1)(5)-(-3)(7) = 26$$\n",
    "Next, we need to reform the matrix into the inverse form:\n",
    "$$M^{-1} = \\frac{1}{|M|} \\begin{bmatrix} m_{(1,1)} & -m_{(0,1)} \\\\ -m_{(1,0)} & m_{(0,0)}\\end{bmatrix}$$\n",
    "So that will be:\n",
    "$$M^{-1} = \\frac{1}{26} \\begin{bmatrix} 5 & -7 \\\\ 3 & 1\\end{bmatrix} = \\begin{bmatrix} \\frac{5}{26} & \\frac{-7}{26} \\\\ \\frac{3}{26} & \\frac{1}{26}\\end{bmatrix}$$\n",
    "For higher-dimension matrices you might need to use co-factors, minors, adjugates, and other reduction techinques. To solve this programmatially we can use `np.linalg.inv()`."
   ]
  },
  {
   "cell_type": "code",
   "execution_count": 75,
   "metadata": {},
   "outputs": [
    {
     "data": {
      "text/plain": [
       "array([[1, 0],\n",
       "       [0, 1]])"
      ]
     },
     "execution_count": 75,
     "metadata": {},
     "output_type": "execute_result"
    }
   ],
   "source": [
    "M = np.array([\n",
    "    [1,7],\n",
    "    [-3, 5]\n",
    "])\n",
    "\n",
    "np.array(M @ np.linalg.inv(M), dtype=int)"
   ]
  },
  {
   "cell_type": "code",
   "execution_count": 77,
   "metadata": {},
   "outputs": [
    {
     "data": {
      "text/plain": [
       "array([[1, 0, 0, 0, 0, 0, 0],\n",
       "       [0, 1, 0, 0, 0, 0, 0],\n",
       "       [0, 0, 0, 0, 0, 0, 0],\n",
       "       [0, 0, 0, 1, 0, 0, 0],\n",
       "       [0, 0, 0, 0, 1, 0, 0],\n",
       "       [0, 0, 0, 0, 0, 0, 0],\n",
       "       [0, 0, 0, 0, 0, 0, 0]])"
      ]
     },
     "execution_count": 77,
     "metadata": {},
     "output_type": "execute_result"
    }
   ],
   "source": [
    "## And now let's test your skills in solving a matrix with high dimensions:\n",
    "N = np.array([\n",
    "    [18,5,23,1,0,33,5],\n",
    "    [0,45,0,11,2,4,2],\n",
    "    [5,9,20,0,0,0,3],\n",
    "    [1,6,4,4,8,43,1],\n",
    "    [8,6,8,7,1,6,1],\n",
    "    [-5,15,2,0,0,6,-30],\n",
    "    [-2,-5,1,2,1,20,12],\n",
    "])\n",
    "N_inv = np.linalg.inv(N)\n",
    "np.array(N @ N_inv,dtype=int)"
   ]
  },
  {
   "cell_type": "markdown",
   "metadata": {},
   "source": [
    "To validate the wether if the matric that you have solved is really the inverse, we follow this dot product property for a matrix $M$:\n",
    "$$M\\cdot M^{-1} = I$$"
   ]
  },
  {
   "cell_type": "code",
   "execution_count": null,
   "metadata": {},
   "outputs": [],
   "source": [
    "squad = np.array([\n",
    "    [1.0, 1.0, 0.5],\n",
    "    [0.7, 0.7, 0.9],\n",
    "    [0.3, 0.3, 1.0]\n",
    "])\n",
    "weights = np.array([\n",
    "    [0.2, 0.2, 0.6]\n",
    "])\n",
    "p_grade = squad @ weights.T\n",
    "p_grade\n"
   ]
  },
  {
   "cell_type": "markdown",
   "metadata": {},
   "source": [
    "## Activity"
   ]
  },
  {
   "cell_type": "markdown",
   "metadata": {},
   "source": [
    "### Task 1"
   ]
  },
  {
   "cell_type": "markdown",
   "metadata": {},
   "source": [
    "Prove and implement the remaining 6 matrix multiplication properties. You may create your own matrices in which their shapes should not be lower than $(3,3)$.\n",
    "In your methodology, create individual flowcharts for each property and discuss the property you would then present your proofs or validity of your implementation in the results section by comparing your result to present functions from NumPy."
   ]
  },
  {
   "cell_type": "code",
   "execution_count": 2,
   "metadata": {},
   "outputs": [],
   "source": [
    "A = np.array([\n",
    "              [1,2,3],\n",
    "              [4,5,6],\n",
    "              [7,8,9],\n",
    "])\n",
    "B = np.array([\n",
    "              [2,6,1],\n",
    "              [4,3,5],\n",
    "              [0,8,4],\n",
    "])\n",
    "C = np.array([\n",
    "              [7,9,8],\n",
    "              [1,6,5],\n",
    "              [3,2,7],\n",
    "])"
   ]
  },
  {
   "cell_type": "markdown",
   "metadata": {},
   "source": [
    " Property 1. $A \\cdot B \\neq B \\cdot A$"
   ]
  },
  {
   "cell_type": "code",
   "execution_count": 23,
   "metadata": {},
   "outputs": [
    {
     "name": "stdout",
     "output_type": "stream",
     "text": [
      "23\n",
      "The product of A and B are:\n",
      " [[10, 36, 23],\n",
      " [28, 87, 53],\n",
      " [46, 138, 83]]\n"
     ]
    }
   ],
   "source": [
    "#My function in A dot B\n",
    "#first row of array \n",
    "ABzerobyzeroelement = ((A[0,0] * B[0,0])+(A[0,1] * B[1,0])+(A[0,2]*B[2,0]))\n",
    "#print(ABzerobyzeroelement)\n",
    "ABzerobyoneelement = ((A[0,0] * B[0,1])+(A[0,1] * B[1,1])+(A[0,2]*B[2,1]))\n",
    "#print(ABzerobyoneelement)\n",
    "ABzerobytwoelement = ((A[0,0] * B[0,2])+(A[0,1] * B[1,2])+(A[0,2]*B[2,2]))\n",
    "#print(ABzerobytwoelement)\n",
    "\n",
    "#second row of array \n",
    "ABonebyzeroelement = ((A[1,0] * B[0,0])+(A[1,1] * B[1,0])+(A[1,2]*B[2,0]))\n",
    "#print(ABonebyzeroelement)\n",
    "ABonebyoneelement = ((A[1,0] * B[0,1])+(A[1,1] * B[1,1])+(A[1,2]*B[2,1]))\n",
    "#print(ABonebyoneelement)\n",
    "ABonebytwoelement = ((A[1,0] * B[0,2])+(A[1,1] * B[1,2])+(A[1,2]*B[2,2]))\n",
    "#print(ABonebytwoelement)\n",
    "\n",
    "#third row of array\n",
    "ABtwobyzeroelement = ((A[2,0] * B[0,0])+(A[2,1] * B[1,0])+(A[2,2]*B[2,0]))\n",
    "#print(ABtwobyzeroelement)\n",
    "ABtwobyoneelement = ((A[2,0] * B[0,1])+(A[2,1] * B[1,1])+(A[2,2]*B[2,1]))\n",
    "#print(ABtwobyoneelement)\n",
    "ABtwobytwoelement = ((A[2,0] * B[0,2])+(A[2,1] * B[1,2])+(A[2,2]*B[2,2]))\n",
    "#print(ABtwobytwoelement)\n",
    "\n",
    "print(f'The product of A and B are:\\n [{[ABzerobyzeroelement, ABzerobyoneelement, ABzerobytwoelement]},\\n {[ABonebyzeroelement, ABonebyoneelement, ABonebytwoelement]},\\n {[ABtwobyzeroelement, ABtwobyoneelement, ABtwobytwoelement]}]')\n",
    "\n"
   ]
  },
  {
   "cell_type": "code",
   "execution_count": 4,
   "metadata": {},
   "outputs": [
    {
     "data": {
      "text/plain": [
       "array([[ 10,  36,  23],\n",
       "       [ 28,  87,  53],\n",
       "       [ 46, 138,  83]])"
      ]
     },
     "execution_count": 4,
     "metadata": {},
     "output_type": "execute_result"
    }
   ],
   "source": [
    "np.dot(A,B)"
   ]
  },
  {
   "cell_type": "code",
   "execution_count": 34,
   "metadata": {},
   "outputs": [
    {
     "name": "stdout",
     "output_type": "stream",
     "text": [
      "The product of B and A are:\n",
      " [[33, 42, 51],\n",
      " [51, 63, 75],\n",
      " [60, 72, 84]]\n"
     ]
    }
   ],
   "source": [
    "#My function in B dot A\n",
    "#first row of array \n",
    "BAzerobyzeroelement = ((B[0,0] * A[0,0])+(B[0,1] * A[1,0])+(B[0,2]*A[2,0]))\n",
    "#print(BAzerobyzeroelement)\n",
    "BAzerobyoneelement = ((B[0,0] * A[0,1])+(B[0,1] * A[1,1])+(B[0,2]*A[2,1]))\n",
    "#print(BAzerobyoneelement)\n",
    "BAzerobytwoelement = ((B[0,0] * A[0,2])+(B[0,1] * A[1,2])+(B[0,2]*A[2,2]))\n",
    "#print(BAzerobytwoelement)\n",
    "\n",
    "#second row of array \n",
    "BAonebyzeroelement = ((B[1,0] * A[0,0])+(B[1,1] * A[1,0])+(B[1,2]*A[2,0]))\n",
    "#print(BAonebyzeroelement)\n",
    "BAonebyoneelement = ((B[1,0] * A[0,1])+(B[1,1] * A[1,1])+(B[1,2]*A[2,1]))\n",
    "#print(BAonebyoneelement)\n",
    "BAonebytwoelement = ((B[1,0] * A[0,2])+(B[1,1] * A[1,2])+(B[1,2]*A[2,2]))\n",
    "#print(BAonebytwoelement)\n",
    "\n",
    "#third row of array\n",
    "BAtwobyzeroelement = ((B[2,0] * A[0,0])+(B[2,1] * A[1,0])+(B[2,2]*A[2,0]))\n",
    "#print(BAtwobyzeroelement)\n",
    "BAtwobyoneelement = ((B[2,0] * A[0,1])+(B[2,1] * A[1,1])+(B[2,2]*A[2,1]))\n",
    "#print(BAtwobyoneelement)\n",
    "BAtwobytwoelement = ((B[2,0] * A[0,2])+(B[2,1] * A[1,2])+(B[2,2]*A[2,2]))\n",
    "#print(BAtwobytwoelement)\n",
    "\n",
    "print(f'The product of B and A are:\\n [{[BAzerobyzeroelement, BAzerobyoneelement, BAzerobytwoelement]},\\n {[BAonebyzeroelement, BAonebyoneelement, BAonebytwoelement]},\\n {[BAtwobyzeroelement, BAtwobyoneelement, BAtwobytwoelement]}]')\n",
    "\n"
   ]
  },
  {
   "cell_type": "code",
   "execution_count": 6,
   "metadata": {},
   "outputs": [
    {
     "data": {
      "text/plain": [
       "array([[33, 42, 51],\n",
       "       [51, 63, 75],\n",
       "       [60, 72, 84]])"
      ]
     },
     "execution_count": 6,
     "metadata": {},
     "output_type": "execute_result"
    }
   ],
   "source": [
    "np.dot(B,A)"
   ]
  },
  {
   "cell_type": "code",
   "execution_count": 7,
   "metadata": {},
   "outputs": [
    {
     "data": {
      "text/plain": [
       "array([[False, False, False],\n",
       "       [False, False, False],\n",
       "       [False, False, False]])"
      ]
     },
     "execution_count": 7,
     "metadata": {},
     "output_type": "execute_result"
    }
   ],
   "source": [
    "np.dot(A,B) == np.dot(B,A)"
   ]
  },
  {
   "cell_type": "markdown",
   "metadata": {},
   "source": [
    "Property 2. $A \\cdot (B \\cdot C) = (A \\cdot B) \\cdot C$"
   ]
  },
  {
   "cell_type": "code",
   "execution_count": 40,
   "metadata": {},
   "outputs": [
    {
     "name": "stdout",
     "output_type": "stream",
     "text": [
      "The product of A and B are:\n",
      " [[175, 352, 421],\n",
      " [442, 880, 1030],\n",
      " [709, 1408, 1639]]\n"
     ]
    }
   ],
   "source": [
    "#My function in A dot (B dot C)\n",
    "#first row of array \n",
    "BCAzerobyzeroelement = ((ABzerobyzeroelement * C[0,0])+(ABzerobyoneelement * C[1,0])+(ABzerobytwoelement *C[2,0]))\n",
    "#print(BCAzerobyzeroelement)\n",
    "BCAzerobyoneelement = ((ABzerobyzeroelement * C[0,1])+(ABzerobyoneelement * C[1,1])+(ABzerobytwoelement*C[2,1]))\n",
    "#print(BCAzerobyoneelement)\n",
    "BCAzerobytwoelement = ((ABzerobyzeroelement * C[0,2])+(ABzerobyoneelement * C[1,2])+(ABzerobytwoelement*C[2,2]))\n",
    "#print(BCAzerobytwoelement)\n",
    "\n",
    "#second row of array \n",
    "BCAonebyzeroelement = ((ABonebyzeroelement * C[0,0])+(ABonebyoneelement * C[1,0])+(ABonebytwoelement*C[2,0]))\n",
    "#print(BCAonebyzeroelement)\n",
    "BCAonebyoneelement = ((ABonebyzeroelement * C[0,1])+(ABonebyoneelement * C[1,1])+(ABonebytwoelement*C[2,1]))\n",
    "#print(BCAonebyoneelement)\n",
    "BCAonebytwoelement = ((ABonebyzeroelement * C[0,2])+(ABonebyoneelement * C[1,2])+(ABonebytwoelement*C[2,2]))\n",
    "#print(BCAonebytwoelement)\n",
    "\n",
    "#third row of array\n",
    "BCAtwobyzeroelement = ((ABtwobyzeroelement * C[0,0])+(ABtwobyoneelement * C[1,0])+(ABtwobytwoelement*C[2,0]))\n",
    "#print(BCAtwobyzeroelement)\n",
    "BCAtwobyoneelement = ((ABtwobyzeroelement * C[0,1])+(ABtwobyoneelement * C[1,1])+(ABtwobytwoelement*C[2,1]))\n",
    "#print(BCAtwobyoneelement)\n",
    "BCAtwobytwoelement = ((ABtwobyzeroelement * C[0,2])+(ABtwobyoneelement * C[1,2])+(ABtwobytwoelement*C[2,2]))\n",
    "#print(BCAtwobytwoelement)\n",
    "\n",
    "print(f'The product of A and B are:\\n [{[BCAzerobyzeroelement, BCAzerobyoneelement, BCAzerobytwoelement]},\\n {[BCAonebyzeroelement, BCAonebyoneelement, BCAonebytwoelement]},\\n {[BCAtwobyzeroelement, BCAtwobyoneelement, BCAtwobytwoelement]}]')\n",
    "\n",
    "\n"
   ]
  },
  {
   "cell_type": "code",
   "execution_count": 35,
   "metadata": {},
   "outputs": [
    {
     "data": {
      "text/plain": [
       "array([[ 175,  352,  421],\n",
       "       [ 442,  880, 1030],\n",
       "       [ 709, 1408, 1639]])"
      ]
     },
     "execution_count": 35,
     "metadata": {},
     "output_type": "execute_result"
    }
   ],
   "source": [
    "A @ (B @ C)"
   ]
  },
  {
   "cell_type": "code",
   "execution_count": 29,
   "metadata": {},
   "outputs": [
    {
     "name": "stdout",
     "output_type": "stream",
     "text": [
      "The product of A and B are:\n",
      " [[175, 352, 421],\n",
      " [442, 880, 1030],\n",
      " [709, 1408, 1639]]\n"
     ]
    }
   ],
   "source": [
    "#My function in (A dot B) dot C\n",
    "#first row of array \n",
    "ABCzerobyzeroelement = ((ABzerobyzeroelement * C[0,0])+(ABzerobyoneelement * C[1,0])+(ABzerobytwoelement *C[2,0]))\n",
    "#print(ABzerobyzeroelement)\n",
    "ABCzerobyoneelement = ((ABzerobyzeroelement * C[0,1])+(ABzerobyoneelement * C[1,1])+(ABzerobytwoelement*C[2,1]))\n",
    "#print(ABzerobyoneelement)\n",
    "ABCzerobytwoelement = ((ABzerobyzeroelement * C[0,2])+(ABzerobyoneelement * C[1,2])+(ABzerobytwoelement*C[2,2]))\n",
    "#print(ABzerobytwoelement)\n",
    "\n",
    "#second row of array \n",
    "ABConebyzeroelement = ((ABonebyzeroelement * C[0,0])+(ABonebyoneelement * C[1,0])+(ABonebytwoelement*C[2,0]))\n",
    "#print(ABonebyzeroelement)\n",
    "ABConebyoneelement = ((ABonebyzeroelement * C[0,1])+(ABonebyoneelement * C[1,1])+(ABonebytwoelement*C[2,1]))\n",
    "#print(ABonebyoneelement)\n",
    "ABConebytwoelement = ((ABonebyzeroelement * C[0,2])+(ABonebyoneelement * C[1,2])+(ABonebytwoelement*C[2,2]))\n",
    "#print(ABonebytwoelement)\n",
    "\n",
    "#third row of array\n",
    "ABCtwobyzeroelement = ((ABtwobyzeroelement * C[0,0])+(ABtwobyoneelement * C[1,0])+(ABtwobytwoelement*C[2,0]))\n",
    "#print(ABtwobyzeroelement)\n",
    "ABCtwobyoneelement = ((ABtwobyzeroelement * C[0,1])+(ABtwobyoneelement * C[1,1])+(ABtwobytwoelement*C[2,1]))\n",
    "#print(ABtwobyoneelement)\n",
    "ABCtwobytwoelement = ((ABtwobyzeroelement * C[0,2])+(ABtwobyoneelement * C[1,2])+(ABtwobytwoelement*C[2,2]))\n",
    "#print(ABtwobytwoelement)\n",
    "\n",
    "print(f'The product of A and B are:\\n [{[ABCzerobyzeroelement, ABCzerobyoneelement, ABCzerobytwoelement]},\\n {[ABConebyzeroelement, ABConebyoneelement, ABConebytwoelement]},\\n {[ABCtwobyzeroelement, ABCtwobyoneelement, ABCtwobytwoelement]}]')\n",
    "\n"
   ]
  },
  {
   "cell_type": "code",
   "execution_count": 36,
   "metadata": {},
   "outputs": [
    {
     "data": {
      "text/plain": [
       "array([[ 175,  352,  421],\n",
       "       [ 442,  880, 1030],\n",
       "       [ 709, 1408, 1639]])"
      ]
     },
     "execution_count": 36,
     "metadata": {},
     "output_type": "execute_result"
    }
   ],
   "source": [
    "(A @ B) @ C"
   ]
  },
  {
   "cell_type": "code",
   "execution_count": 9,
   "metadata": {},
   "outputs": [
    {
     "data": {
      "text/plain": [
       "array([[ True,  True,  True],\n",
       "       [ True,  True,  True],\n",
       "       [ True,  True,  True]])"
      ]
     },
     "execution_count": 9,
     "metadata": {},
     "output_type": "execute_result"
    }
   ],
   "source": [
    "A @ (B @ C) == (A @ B) @ C"
   ]
  },
  {
   "cell_type": "markdown",
   "metadata": {},
   "source": [
    "Property 3. $A\\cdot(B+C) = A\\cdot B + A\\cdot C$"
   ]
  },
  {
   "cell_type": "code",
   "execution_count": 47,
   "metadata": {},
   "outputs": [
    {
     "name": "stdout",
     "output_type": "stream",
     "text": [
      "The sum of B and C are:\n",
      "[[ 9 15  9]\n",
      " [ 5  9 10]\n",
      " [ 3 10 11]]\n",
      "The product of A and E are:\n",
      " [[28, 63, 62],\n",
      " [79, 165, 152],\n",
      " [130, 267, 242]]\n"
     ]
    }
   ],
   "source": [
    "#For A at (B plus C)\n",
    "#add B and C \n",
    "E = B+C\n",
    "print(f'The sum of B and C are:\\n{E}')\n",
    "#A at BC\n",
    "#first row of array \n",
    "AEzerobyzeroelement = ((A[0,0] * E[0,0])+(A[0,1] * E[1,0])+(A[0,2]*E[2,0]))\n",
    "#print(AEzerobyzeroelement)\n",
    "AEzerobyoneelement = ((A[0,0] * E[0,1])+(A[0,1] * E[1,1])+(A[0,2]*E[2,1]))\n",
    "#print(AEzerobyoneelement)\n",
    "AEzerobytwoelement = ((A[0,0] * E[0,2])+(A[0,1] * E[1,2])+(A[0,2]*E[2,2]))\n",
    "#print(AEzerobytwoelement)\n",
    "\n",
    "#second row of array \n",
    "AEonebyzeroelement = ((A[1,0] * E[0,0])+(A[1,1] * E[1,0])+(A[1,2]*E[2,0]))\n",
    "#print(AEonebyzeroelement)\n",
    "AEonebyoneelement = ((A[1,0] * E[0,1])+(A[1,1] * E[1,1])+(A[1,2]*E[2,1]))\n",
    "#print(AEonebyoneelement)\n",
    "AEonebytwoelement = ((A[1,0] * E[0,2])+(A[1,1] * E[1,2])+(A[1,2]*E[2,2]))\n",
    "#print(AEonebytwoelement)\n",
    "\n",
    "#third row of array\n",
    "AEtwobyzeroelement = ((A[2,0] * E[0,0])+(A[2,1] * E[1,0])+(A[2,2]*E[2,0]))\n",
    "#print(AEtwobyzeroelement)\n",
    "AEtwobyoneelement = ((A[2,0] * E[0,1])+(A[2,1] * E[1,1])+(A[2,2]*E[2,1]))\n",
    "#print(AEtwobyoneelement)\n",
    "AEtwobytwoelement = ((A[2,0] * E[0,2])+(A[2,1] * E[1,2])+(A[2,2]*E[2,2]))\n",
    "#print(AEtwobytwoelement)\n",
    "\n",
    "print(f'The product of A and E are:\\n [{[AEzerobyzeroelement, AEzerobyoneelement, AEzerobytwoelement]},\\n {[AEonebyzeroelement, AEonebyoneelement, AEonebytwoelement]},\\n {[AEtwobyzeroelement, AEtwobyoneelement, AEtwobytwoelement]}]')\n",
    "\n"
   ]
  },
  {
   "cell_type": "code",
   "execution_count": 10,
   "metadata": {},
   "outputs": [
    {
     "data": {
      "text/plain": [
       "array([[ 28,  63,  62],\n",
       "       [ 79, 165, 152],\n",
       "       [130, 267, 242]])"
      ]
     },
     "execution_count": 10,
     "metadata": {},
     "output_type": "execute_result"
    }
   ],
   "source": [
    "A @ (B+C)"
   ]
  },
  {
   "cell_type": "code",
   "execution_count": 49,
   "metadata": {},
   "outputs": [
    {
     "name": "stdout",
     "output_type": "stream",
     "text": [
      "The product of A and B are:\n",
      " [[10, 36, 23],\n",
      " [28, 87, 53],\n",
      " [46, 138, 83]]\n",
      "The product of A and C are:\n",
      " [[18, 27, 39],\n",
      " [51, 78, 99],\n",
      " [84, 129, 159]]\n",
      "Overall are:\n",
      " [[28, 63, 62],\n",
      " [79, 165, 152],\n",
      " [130, 267, 297]]\n"
     ]
    }
   ],
   "source": [
    "#For the product of A and B add to the product of A and C \n",
    "#Product of A and B \n",
    "#first row of array \n",
    "ABzerobyzeroelement = ((A[0,0] * B[0,0])+(A[0,1] * B[1,0])+(A[0,2]*B[2,0]))\n",
    "#print(ABzerobyzeroelement)\n",
    "ABzerobyoneelement = ((A[0,0] * B[0,1])+(A[0,1] * B[1,1])+(A[0,2]*B[2,1]))\n",
    "#print(ABzerobyoneelement)\n",
    "ABzerobytwoelement = ((A[0,0] * B[0,2])+(A[0,1] * B[1,2])+(A[0,2]*B[2,2]))\n",
    "#print(ABzerobytwoelement)\n",
    "\n",
    "#second row of array \n",
    "ABonebyzeroelement = ((A[1,0] * B[0,0])+(A[1,1] * B[1,0])+(A[1,2]*B[2,0]))\n",
    "#print(ABonebyzeroelement)\n",
    "ABonebyoneelement = ((A[1,0] * B[0,1])+(A[1,1] * B[1,1])+(A[1,2]*B[2,1]))\n",
    "#print(ABonebyoneelement)\n",
    "ABonebytwoelement = ((A[1,0] * B[0,2])+(A[1,1] * B[1,2])+(A[1,2]*B[2,2]))\n",
    "#print(ABonebytwoelement)\n",
    "\n",
    "#third row of array\n",
    "ABtwobyzeroelement = ((A[2,0] * B[0,0])+(A[2,1] * B[1,0])+(A[2,2]*B[2,0]))\n",
    "#print(ABtwobyzeroelement)\n",
    "ABtwobyoneelement = ((A[2,0] * B[0,1])+(A[2,1] * B[1,1])+(A[2,2]*B[2,1]))\n",
    "#print(ABtwobyoneelement)\n",
    "ABtwobytwoelement = ((A[2,0] * B[0,2])+(A[2,1] * B[1,2])+(A[2,2]*B[2,2]))\n",
    "#print(ABtwobytwoelement)\n",
    "\n",
    "print(f'The product of A and B are:\\n [{[ABzerobyzeroelement, ABzerobyoneelement, ABzerobytwoelement]},\\n {[ABonebyzeroelement, ABonebyoneelement, ABonebytwoelement]},\\n {[ABtwobyzeroelement, ABtwobyoneelement, ABtwobytwoelement]}]')\n",
    "\n",
    "#Product of A and C\n",
    "#first row of array \n",
    "ACzerobyzeroelement = ((A[0,0] * C[0,0])+(A[0,1] * C[1,0])+(A[0,2]*C[2,0]))\n",
    "#print(ACzerobyzeroelement)\n",
    "ACzerobyoneelement = ((A[0,0] * C[0,1])+(A[0,1] * C[1,1])+(A[0,2]*C[2,1]))\n",
    "#print(ACzerobyoneelement)\n",
    "ACzerobytwoelement = ((A[0,0] * C[0,2])+(A[0,1] * C[1,2])+(A[0,2]*C[2,2]))\n",
    "#print(ACzerobytwoelement)\n",
    "\n",
    "#second row of array \n",
    "AConebyzeroelement = ((A[1,0] * C[0,0])+(A[1,1] * C[1,0])+(A[1,2]*C[2,0]))\n",
    "#print(AConebyzeroelement)\n",
    "AConebyoneelement = ((A[1,0] * C[0,1])+(A[1,1] * C[1,1])+(A[1,2]*C[2,1]))\n",
    "#print(AConebyoneelement)\n",
    "AConebytwoelement = ((A[1,0] * C[0,2])+(A[1,1] * C[1,2])+(A[1,2]*C[2,2]))\n",
    "#print(AConebytwoelement)\n",
    "\n",
    "#third row of array\n",
    "ACtwobyzeroelement = ((A[2,0] * C[0,0])+(A[2,1] * C[1,0])+(A[2,2]*C[2,0]))\n",
    "#print(ACtwobyzeroelement)\n",
    "ACtwobyoneelement = ((A[2,0] * C[0,1])+(A[2,1] * C[1,1])+(A[2,2]*C[2,1]))\n",
    "#print(ACtwobyoneelement)\n",
    "ACtwobytwoelement = ((A[2,0] * C[0,2])+(A[2,1] * C[1,2])+(A[2,2]*C[2,2]))\n",
    "#print(ACtwobytwoelement)\n",
    "\n",
    "print(f'The product of A and C are:\\n [{[ACzerobyzeroelement, ACzerobyoneelement, ACzerobytwoelement]},\\n {[AConebyzeroelement, AConebyoneelement, AConebytwoelement]},\\n {[ACtwobyzeroelement, ACtwobyoneelement, ACtwobytwoelement]}]')\n",
    "\n",
    "#For the sum\n",
    "SUMone = ABzerobyzeroelement + ACzerobyzeroelement\n",
    "SUMtwo = ABzerobyoneelement + ACzerobyoneelement\n",
    "SUMthree = ABzerobytwoelement + ACzerobytwoelement\n",
    "SUMfour = ABonebyzeroelement + AConebyzeroelement\n",
    "SUMfive = ABonebyoneelement + AConebyoneelement\n",
    "SUMsix = ABonebytwoelement + AConebytwoelement\n",
    "SUMseven = ABtwobyzeroelement + ACtwobyzeroelement\n",
    "SUMeight = ABtwobyoneelement + ACtwobyoneelement\n",
    "SUMnine = ABtwobyoneelement + ACtwobytwoelement\n",
    "\n",
    "print(f'Overall are:\\n [{[SUMone, SUMtwo, SUMthree]},\\n {[SUMfour, SUMfive, SUMsix]},\\n {[SUMseven, SUMeight, SUMnine]}]')"
   ]
  },
  {
   "cell_type": "code",
   "execution_count": 11,
   "metadata": {},
   "outputs": [
    {
     "data": {
      "text/plain": [
       "array([[ 28,  63,  62],\n",
       "       [ 79, 165, 152],\n",
       "       [130, 267, 242]])"
      ]
     },
     "execution_count": 11,
     "metadata": {},
     "output_type": "execute_result"
    }
   ],
   "source": [
    "A@B + A@C"
   ]
  },
  {
   "cell_type": "code",
   "execution_count": 13,
   "metadata": {},
   "outputs": [
    {
     "data": {
      "text/plain": [
       "array([[ True,  True,  True],\n",
       "       [ True,  True,  True],\n",
       "       [ True,  True,  True]])"
      ]
     },
     "execution_count": 13,
     "metadata": {},
     "output_type": "execute_result"
    }
   ],
   "source": [
    "(A @ (B+C)) == (A@B + A@C)"
   ]
  },
  {
   "cell_type": "markdown",
   "metadata": {},
   "source": [
    "Property 4. $(B+C)\\cdot A = B\\cdot A + C\\cdot A$"
   ]
  },
  {
   "cell_type": "code",
   "execution_count": 52,
   "metadata": {},
   "outputs": [
    {
     "name": "stdout",
     "output_type": "stream",
     "text": [
      "The sum of B and C are:\n",
      "[[ 9 15  9]\n",
      " [ 5  9 10]\n",
      " [ 3 10 11]]\n",
      "The product of Z and A are:\n",
      " [[132, 165, 198],\n",
      " [111, 135, 159],\n",
      " [120, 144, 168]]\n"
     ]
    }
   ],
   "source": [
    "#Add B and C \n",
    "Z = B+C\n",
    "print(f'The sum of B and C are:\\n{E}')\n",
    "\n",
    "#Z at A\n",
    "#first row of array \n",
    "ZAzerobyzeroelement = ((Z[0,0] * A[0,0])+(Z[0,1] * A[1,0])+(Z[0,2]*A[2,0]))\n",
    "#print(ZAzerobyzeroelement)\n",
    "ZAzerobyoneelement = ((Z[0,0] * A[0,1])+(Z[0,1] * A[1,1])+(Z[0,2]*A[2,1]))\n",
    "#print(ZAzerobyoneelement)\n",
    "ZAzerobytwoelement = ((Z[0,0] * A[0,2])+(Z[0,1] * A[1,2])+(Z[0,2]*A[2,2]))\n",
    "#print(ZAzerobytwoelement)\n",
    "\n",
    "#second row of array \n",
    "ZAonebyzeroelement = ((Z[1,0] * A[0,0])+(Z[1,1] * A[1,0])+(Z[1,2]*A[2,0]))\n",
    "#print(ZAonebyzeroelement)\n",
    "ZAonebyoneelement = ((Z[1,0] * A[0,1])+(Z[1,1] * A[1,1])+(Z[1,2]*A[2,1]))\n",
    "#print(ZAonebyoneelement)\n",
    "ZAonebytwoelement = ((Z[1,0] * A[0,2])+(Z[1,1] * A[1,2])+(Z[1,2]*A[2,2]))\n",
    "#print(ZAonebytwoelement)\n",
    "\n",
    "#third row of array\n",
    "ZAtwobyzeroelement = ((Z[2,0] * A[0,0])+(Z[2,1] * A[1,0])+(Z[2,2]*A[2,0]))\n",
    "#print(ZAtwobyzeroelement)\n",
    "ZAtwobyoneelement = ((Z[2,0] * A[0,1])+(Z[2,1] * A[1,1])+(Z[2,2]*A[2,1]))\n",
    "#print(ZAtwobyoneelement)\n",
    "ZAtwobytwoelement = ((Z[2,0] * A[0,2])+(Z[2,1] * A[1,2])+(Z[2,2]*A[2,2]))\n",
    "#print(ZAtwobytwoelement)\n",
    "\n",
    "print(f'The product of Z and A are:\\n [{[ZAzerobyzeroelement, ZAzerobyoneelement, ZAzerobytwoelement]},\\n {[ZAonebyzeroelement, ZAonebyoneelement, ZAonebytwoelement]},\\n {[ZAtwobyzeroelement, ZAtwobyoneelement, ZAtwobytwoelement]}]')\n",
    "\n",
    "\n"
   ]
  },
  {
   "cell_type": "code",
   "execution_count": 14,
   "metadata": {},
   "outputs": [
    {
     "data": {
      "text/plain": [
       "array([[132, 165, 198],\n",
       "       [111, 135, 159],\n",
       "       [120, 144, 168]])"
      ]
     },
     "execution_count": 14,
     "metadata": {},
     "output_type": "execute_result"
    }
   ],
   "source": [
    "(B+C) @ A "
   ]
  },
  {
   "cell_type": "code",
   "execution_count": 53,
   "metadata": {},
   "outputs": [
    {
     "name": "stdout",
     "output_type": "stream",
     "text": [
      "The product of B and A are:\n",
      " [[33, 42, 51],\n",
      " [51, 63, 75],\n",
      " [60, 72, 84]]\n",
      "The product of C and A are:\n",
      " [[99, 123, 147],\n",
      " [60, 72, 84],\n",
      " [60, 72, 84]]\n",
      "Overall are:\n",
      " [[132, 165, 198],\n",
      " [111, 135, 159],\n",
      " [120, 144, 156]]\n"
     ]
    }
   ],
   "source": [
    "#For the product of B and A add to the product of C and A \n",
    "#Product of B and A \n",
    "#first row of array \n",
    "BAzerobyzeroelement = ((B[0,0] * A[0,0])+(B[0,1] * A[1,0])+(B[0,2]*A[2,0]))\n",
    "#print(BAzerobyzeroelement)\n",
    "BAzerobyoneelement = ((B[0,0] * A[0,1])+(B[0,1] * A[1,1])+(B[0,2]*A[2,1]))\n",
    "#print(BAzerobyoneelement)\n",
    "BAzerobytwoelement = ((B[0,0] * A[0,2])+(B[0,1] * A[1,2])+(B[0,2]*A[2,2]))\n",
    "#print(BAzerobytwoelement)\n",
    "\n",
    "#second row of array \n",
    "BAonebyzeroelement = ((B[1,0] * A[0,0])+(B[1,1] * A[1,0])+(B[1,2]*A[2,0]))\n",
    "#print(BAonebyzeroelement)\n",
    "BAonebyoneelement = ((B[1,0] * A[0,1])+(B[1,1] * A[1,1])+(B[1,2]*A[2,1]))\n",
    "#print(BAonebyoneelement)\n",
    "BAonebytwoelement = ((B[1,0] * A[0,2])+(B[1,1] * A[1,2])+(B[1,2]*A[2,2]))\n",
    "#print(BAonebytwoelement)\n",
    "\n",
    "#third row of array\n",
    "BAtwobyzeroelement = ((B[2,0] * A[0,0])+(B[2,1] * A[1,0])+(B[2,2]*A[2,0]))\n",
    "#print(BAtwobyzeroelement)\n",
    "BAtwobyoneelement = ((B[2,0] * A[0,1])+(B[2,1] * A[1,1])+(B[2,2]*A[2,1]))\n",
    "#print(BAtwobyoneelement)\n",
    "BAtwobytwoelement = ((B[2,0] * A[0,2])+(B[2,1] * A[1,2])+(B[2,2]*A[2,2]))\n",
    "#print(BAtwobytwoelement)\n",
    "\n",
    "print(f'The product of B and A are:\\n [{[BAzerobyzeroelement, BAzerobyoneelement, BAzerobytwoelement]},\\n {[BAonebyzeroelement, BAonebyoneelement, BAonebytwoelement]},\\n {[BAtwobyzeroelement, BAtwobyoneelement, BAtwobytwoelement]}]')\n",
    "\n",
    "#Product of C and A\n",
    "#first row of array \n",
    "CAzerobyzeroelement = ((C[0,0] * A[0,0])+(C[0,1] * A[1,0])+(C[0,2]*A[2,0]))\n",
    "#print(CAzerobyzeroelement)\n",
    "CAzerobyoneelement = ((C[0,0] * A[0,1])+(C[0,1] * A[1,1])+(C[0,2]*A[2,1]))\n",
    "#print(CAzerobyoneelement)\n",
    "CAzerobytwoelement = ((C[0,0] * A[0,2])+(C[0,1] * A[1,2])+(C[0,2]*A[2,2]))\n",
    "#print(CAzerobytwoelement)\n",
    "\n",
    "#second row of array \n",
    "CAonebyzeroelement = ((C[1,0] * A[0,0])+(C[1,1] * A[1,0])+(C[1,2]*A[2,0]))\n",
    "#print(CAonebyzeroelement)\n",
    "CAonebyoneelement = ((C[1,0] * A[0,1])+(C[1,1] * A[1,1])+(C[1,2]*A[2,1]))\n",
    "#print(CAonebyoneelement)\n",
    "CAonebytwoelement = ((C[1,0] * A[0,2])+(C[1,1] * A[1,2])+(C[1,2]*A[2,2]))\n",
    "#print(CAonebytwoelement)\n",
    "\n",
    "#third row of array\n",
    "CAtwobyzeroelement = ((C[2,0] * A[0,0])+(C[2,1] * A[1,0])+(C[2,2]*A[2,0]))\n",
    "#print(CAtwobyzeroelement)\n",
    "CAtwobyoneelement = ((C[2,0] * A[0,1])+(C[2,1] * A[1,1])+(C[2,2]*A[2,1]))\n",
    "#print(CAtwobyoneelement)\n",
    "CAtwobytwoelement = ((C[2,0] * A[0,2])+(C[2,1] * A[1,2])+(C[2,2]*A[2,2]))\n",
    "#print(CAtwobytwoelement)\n",
    "\n",
    "print(f'The product of C and A are:\\n [{[CAzerobyzeroelement, CAzerobyoneelement, CAzerobytwoelement]},\\n {[CAonebyzeroelement, CAonebyoneelement, CAonebytwoelement]},\\n {[CAtwobyzeroelement, CAtwobyoneelement, CAtwobytwoelement]}]')\n",
    "\n",
    "#For the sum\n",
    "sumone = BAzerobyzeroelement + CAzerobyzeroelement\n",
    "sumtwo = BAzerobyoneelement + CAzerobyoneelement\n",
    "sumthree = BAzerobytwoelement + CAzerobytwoelement\n",
    "sumfour = BAonebyzeroelement + CAonebyzeroelement\n",
    "sumfive = BAonebyoneelement + CAonebyoneelement\n",
    "sumsix = BAonebytwoelement + CAonebytwoelement\n",
    "sumseven = BAtwobyzeroelement + CAtwobyzeroelement\n",
    "sumeight = BAtwobyoneelement + CAtwobyoneelement\n",
    "sumnine = BAtwobyoneelement + CAtwobytwoelement\n",
    "\n",
    "print(f'Overall are:\\n [{[sumone, sumtwo, sumthree]},\\n {[sumfour, sumfive, sumsix]},\\n {[sumseven, sumeight, sumnine]}]')"
   ]
  },
  {
   "cell_type": "code",
   "execution_count": 15,
   "metadata": {},
   "outputs": [
    {
     "data": {
      "text/plain": [
       "array([[132, 165, 198],\n",
       "       [111, 135, 159],\n",
       "       [120, 144, 168]])"
      ]
     },
     "execution_count": 15,
     "metadata": {},
     "output_type": "execute_result"
    }
   ],
   "source": [
    "B@A + C@A"
   ]
  },
  {
   "cell_type": "code",
   "execution_count": 16,
   "metadata": {},
   "outputs": [
    {
     "data": {
      "text/plain": [
       "array([[ True,  True,  True],\n",
       "       [ True,  True,  True],\n",
       "       [ True,  True,  True]])"
      ]
     },
     "execution_count": 16,
     "metadata": {},
     "output_type": "execute_result"
    }
   ],
   "source": [
    "(B+C) @ A  == B@A + C@A"
   ]
  },
  {
   "cell_type": "markdown",
   "metadata": {},
   "source": [
    "Property 5. $A\\cdot I = A$"
   ]
  },
  {
   "cell_type": "code",
   "execution_count": 17,
   "metadata": {},
   "outputs": [
    {
     "data": {
      "text/plain": [
       "array([[1, 2, 3],\n",
       "       [4, 5, 6],\n",
       "       [7, 8, 9]])"
      ]
     },
     "execution_count": 17,
     "metadata": {},
     "output_type": "execute_result"
    }
   ],
   "source": [
    "A"
   ]
  },
  {
   "cell_type": "code",
   "execution_count": 18,
   "metadata": {},
   "outputs": [
    {
     "data": {
      "text/plain": [
       "array([[1., 0., 0.],\n",
       "       [0., 1., 0.],\n",
       "       [0., 0., 1.]])"
      ]
     },
     "execution_count": 18,
     "metadata": {},
     "output_type": "execute_result"
    }
   ],
   "source": [
    "np.eye(3)"
   ]
  },
  {
   "cell_type": "code",
   "execution_count": 57,
   "metadata": {},
   "outputs": [
    {
     "name": "stdout",
     "output_type": "stream",
     "text": [
      "The product of A and I are:\n",
      " [[1.0, 2.0, 3.0],\n",
      " [4.0, 5.0, 6.0],\n",
      " [7.0, 8.0, 9.0]]\n"
     ]
    }
   ],
   "source": [
    "#For A at I\n",
    "O = np.eye(3)\n",
    "O\n",
    "\n",
    "#A at O\n",
    "#first row of array \n",
    "AOzerobyzeroelement = ((A[0,0] * O[0,0])+(A[0,1] * O[1,0])+(A[0,2]*O[2,0]))\n",
    "#print(AOzerobyzeroelement)\n",
    "AOzerobyoneelement = ((A[0,0] * O[0,1])+(A[0,1] * O[1,1])+(A[0,2]*O[2,1]))\n",
    "#print(AOzerobyoneelement)\n",
    "AOzerobytwoelement = ((A[0,0] * O[0,2])+(A[0,1] * O[1,2])+(A[0,2]*O[2,2]))\n",
    "#print(AOzerobytwoelement)\n",
    "\n",
    "#second row of array \n",
    "AOonebyzeroelement = ((A[1,0] * O[0,0])+(A[1,1] * O[1,0])+(A[1,2]*O[2,0]))\n",
    "#print(AOonebyzeroelement)\n",
    "AOonebyoneelement = ((A[1,0] * O[0,1])+(A[1,1] * O[1,1])+(A[1,2]*O[2,1]))\n",
    "#print(AOonebyoneelement)\n",
    "AOonebytwoelement = ((A[1,0] * O[0,2])+(A[1,1] * O[1,2])+(A[1,2]*O[2,2]))\n",
    "#print(AOonebytwoelement)\n",
    "\n",
    "#third row of array\n",
    "AOtwobyzeroelement = ((A[2,0] * O[0,0])+(A[2,1] * O[1,0])+(A[2,2]*O[2,0]))\n",
    "#print(AOtwobyzeroelement)\n",
    "AOtwobyoneelement = ((A[2,0] * O[0,1])+(A[2,1] * O[1,1])+(A[2,2]*O[2,1]))\n",
    "#print(AOtwobyoneelement)\n",
    "AOtwobytwoelement = ((A[2,0] * O[0,2])+(A[2,1] * O[1,2])+(A[2,2]*O[2,2]))\n",
    "#print(AOtwobytwoelement)\n",
    "\n",
    "print(f'The product of A and I are:\\n [{[AOzerobyzeroelement, AOzerobyoneelement, AOzerobytwoelement]},\\n {[AOonebyzeroelement, AOonebyoneelement, AOonebytwoelement]},\\n {[AOtwobyzeroelement, AOtwobyoneelement, AOtwobytwoelement]}]')\n",
    "\n"
   ]
  },
  {
   "cell_type": "code",
   "execution_count": 19,
   "metadata": {},
   "outputs": [
    {
     "data": {
      "text/plain": [
       "array([[1., 2., 3.],\n",
       "       [4., 5., 6.],\n",
       "       [7., 8., 9.]])"
      ]
     },
     "execution_count": 19,
     "metadata": {},
     "output_type": "execute_result"
    }
   ],
   "source": [
    "A @ np.eye(3)"
   ]
  },
  {
   "cell_type": "code",
   "execution_count": 20,
   "metadata": {},
   "outputs": [
    {
     "data": {
      "text/plain": [
       "array([[ True,  True,  True],\n",
       "       [ True,  True,  True],\n",
       "       [ True,  True,  True]])"
      ]
     },
     "execution_count": 20,
     "metadata": {},
     "output_type": "execute_result"
    }
   ],
   "source": [
    "A @ np.eye(3) == A"
   ]
  },
  {
   "cell_type": "markdown",
   "metadata": {},
   "source": [
    "Property 6. $C\\cdot \\emptyset = \\emptyset$"
   ]
  },
  {
   "cell_type": "code",
   "execution_count": 59,
   "metadata": {},
   "outputs": [
    {
     "name": "stdout",
     "output_type": "stream",
     "text": [
      "[[0. 0. 0.]\n",
      " [0. 0. 0.]\n",
      " [0. 0. 0.]]\n"
     ]
    }
   ],
   "source": [
    "null_mat = np.zeros((3,3))\n",
    "print(null_mat)"
   ]
  },
  {
   "cell_type": "code",
   "execution_count": 60,
   "metadata": {},
   "outputs": [
    {
     "name": "stdout",
     "output_type": "stream",
     "text": [
      "The product of C and Null are:\n",
      " [[0.0, 0.0, 0.0],\n",
      " [0.0, 0.0, 0.0],\n",
      " [0.0, 0.0, 0.0]]\n"
     ]
    }
   ],
   "source": [
    "#For C at Null\n",
    "\n",
    "#first row of array \n",
    "Cnullzerobyzeroelement = ((C[0,0] * null_mat[0,0])+(C[0,1] * null_mat[1,0])+(C[0,2]*null_mat[2,0]))\n",
    "#print(Cnullzerobyzeroelement)\n",
    "Cnullzerobyoneelement = ((C[0,0] * null_mat[0,1])+(C[0,1] * null_mat[1,1])+(C[0,2]*null_mat[2,1]))\n",
    "#print(Cnullzerobyoneelement)\n",
    "Cnullzerobytwoelement = ((C[0,0] * null_mat[0,2])+(C[0,1] * null_mat[1,2])+(C[0,2]*null_mat[2,2]))\n",
    "#print(Cnullzerobytwoelement)\n",
    "\n",
    "#second row of array \n",
    "Cnullonebyzeroelement = ((C[1,0] * null_mat[0,0])+(C[1,1] * null_mat[1,0])+(C[1,2]*null_mat[2,0]))\n",
    "#print(Cnullonebyzeroelement)\n",
    "Cnullonebyoneelement = ((C[1,0] * null_mat[0,1])+(C[1,1] * null_mat[1,1])+(C[1,2]*null_mat[2,1]))\n",
    "#print(Cnullonebyoneelement)\n",
    "Cnullonebytwoelement = ((C[1,0] * null_mat[0,2])+(C[1,1] * null_mat[1,2])+(C[1,2]*null_mat[2,2]))\n",
    "#print(Cnullonebytwoelement)\n",
    "\n",
    "#third row of array\n",
    "Cnulltwobyzeroelement = ((C[2,0] * null_mat[0,0])+(C[2,1] * null_mat[1,0])+(C[2,2]*null_mat[2,0]))\n",
    "#print(Cnulltwobyzeroelement)\n",
    "Cnulltwobyoneelement = ((C[2,0] * null_mat[0,1])+(C[2,1] * null_mat[1,1])+(C[2,2]*null_mat[2,1]))\n",
    "#print(Cnulltwobyoneelement)\n",
    "Cnulltwobytwoelement = ((C[2,0] * null_mat[0,2])+(C[2,1] * null_mat[1,2])+(C[2,2]*null_mat[2,2]))\n",
    "#print(Cnulltwobytwoelement)\n",
    "\n",
    "print(f'The product of C and Null are:\\n [{[Cnullzerobyzeroelement, Cnullzerobyoneelement, Cnullzerobytwoelement]},\\n {[Cnullonebyzeroelement, Cnullonebyoneelement, Cnullonebytwoelement]},\\n {[Cnulltwobyzeroelement, Cnulltwobyoneelement, Cnulltwobytwoelement]}]')\n",
    "\n"
   ]
  },
  {
   "cell_type": "code",
   "execution_count": 23,
   "metadata": {},
   "outputs": [
    {
     "data": {
      "text/plain": [
       "array([[0., 0., 0.],\n",
       "       [0., 0., 0.],\n",
       "       [0., 0., 0.]])"
      ]
     },
     "execution_count": 23,
     "metadata": {},
     "output_type": "execute_result"
    }
   ],
   "source": [
    "C @ null_mat"
   ]
  },
  {
   "cell_type": "code",
   "execution_count": 24,
   "metadata": {},
   "outputs": [
    {
     "data": {
      "text/plain": [
       "array([[ True,  True,  True],\n",
       "       [ True,  True,  True],\n",
       "       [ True,  True,  True]])"
      ]
     },
     "execution_count": 24,
     "metadata": {},
     "output_type": "execute_result"
    }
   ],
   "source": [
    "C @ null_mat == null_mat"
   ]
  },
  {
   "cell_type": "markdown",
   "metadata": {},
   "source": [
    "## Conclusion"
   ]
  },
  {
   "cell_type": "markdown",
   "metadata": {},
   "source": [
    "For your conclusion synthesize the concept and application of the laboratory. Briefly discuss what you have learned and achieved in this activity. Also answer the question: \"how can matrix operations solve problems in healthcare?\". "
   ]
  },
  {
   "cell_type": "markdown",
   "metadata": {},
   "source": [
    "On the given activities, I learned how to used operations, multiplication to be exact, by means of using codes. It is much easier than computing manually. I achieved the same precise values every time I tried to compute different values in a specific array. Moreover, it is not time consuming even though, I am computing several data and I can conclude that it can be more easier accurate and efficient to use programming for computation compare to manually type every value in the calculator. Nonetheless, this matrix operations solve problems in healthcare so we can compute the cases here in the Philippines if it increases or decreases. With this matrix operation, it can help to compute a tons of datas of the healthcare so that our healthcare facility won't consume their time too much to count the numbers of patients, cases and many more."
   ]
  }
 ],
 "metadata": {
  "kernelspec": {
   "display_name": "Python 3",
   "language": "python",
   "name": "python3"
  },
  "language_info": {
   "codemirror_mode": {
    "name": "ipython",
    "version": 3
   },
   "file_extension": ".py",
   "mimetype": "text/x-python",
   "name": "python",
   "nbconvert_exporter": "python",
   "pygments_lexer": "ipython3",
   "version": "3.8.5"
  }
 },
 "nbformat": 4,
 "nbformat_minor": 4
}
